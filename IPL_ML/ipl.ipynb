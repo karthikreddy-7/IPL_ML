{
  "cells": [
    {
      "cell_type": "markdown",
      "source": [
        "# IPL EDA & Deep learning Transformers"
      ],
      "metadata": {
        "id": "a_TL7q5kx0ll"
      }
    },
    {
      "cell_type": "code",
      "execution_count": 1,
      "metadata": {
        "id": "DNQUDcr_xPpo",
        "outputId": "14a96e5a-294c-45c2-83cf-94df175f984e",
        "colab": {
          "base_uri": "https://localhost:8080/"
        }
      },
      "outputs": [
        {
          "output_type": "stream",
          "name": "stdout",
          "text": [
            "Mounted at /content/drive\n"
          ]
        }
      ],
      "source": [
        "import numpy as np\n",
        "import matplotlib.pyplot as plt\n",
        "import pandas as pd\n",
        "from google.colab import drive\n",
        "drive.mount('/content/drive')"
      ]
    },
    {
      "cell_type": "code",
      "source": [
        "# Define the file path\n",
        "balls_file_path = \"/content/drive/MyDrive/IPL/ball_by_ball.csv\"\n",
        "match_file_path=\"/content/drive/MyDrive/IPL/matches.csv\"\n",
        "\n",
        "# Load the CSV file\n",
        "ball_by_ball = pd.read_csv(balls_file_path)\n",
        "matches = pd.read_csv(match_file_path)"
      ],
      "metadata": {
        "id": "Y-9fgvOTxg7S"
      },
      "execution_count": 4,
      "outputs": []
    }
  ],
  "metadata": {
    "kernelspec": {
      "display_name": "Python 3",
      "language": "python",
      "name": "python3"
    },
    "language_info": {
      "codemirror_mode": {
        "name": "ipython",
        "version": 3
      },
      "file_extension": ".py",
      "mimetype": "text/x-python",
      "name": "python",
      "nbconvert_exporter": "python",
      "pygments_lexer": "ipython3",
      "version": "3.10.10"
    },
    "colab": {
      "provenance": []
    }
  },
  "nbformat": 4,
  "nbformat_minor": 0
}